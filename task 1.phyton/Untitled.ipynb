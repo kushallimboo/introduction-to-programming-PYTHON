{
 "cells": [
  {
   "cell_type": "code",
   "execution_count": 1,
   "id": "d55a23fa",
   "metadata": {},
   "outputs": [],
   "source": [
    "#integer or float value"
   ]
  },
  {
   "cell_type": "code",
   "execution_count": 2,
   "id": "9df2fd73",
   "metadata": {},
   "outputs": [
    {
     "name": "stdout",
     "output_type": "stream",
     "text": [
      "77\n",
      "-31\n",
      "0.42592592592592593\n"
     ]
    }
   ],
   "source": [
    "a=23\n",
    "b=54\n",
    "add=(a+b)\n",
    "sub=(a-b)\n",
    "mul=(a*b)\n",
    "divide=(a/b)\n",
    "print(add)\n",
    "print(sub)\n",
    "print(divide)"
   ]
  },
  {
   "cell_type": "code",
   "execution_count": 3,
   "id": "d544bd0c",
   "metadata": {},
   "outputs": [
    {
     "data": {
      "text/plain": [
       "12"
      ]
     },
     "execution_count": 3,
     "metadata": {},
     "output_type": "execute_result"
    }
   ],
   "source": [
    "len ('kushallimboo')"
   ]
  },
  {
   "cell_type": "code",
   "execution_count": null,
   "id": "c82d72bb",
   "metadata": {},
   "outputs": [],
   "source": [
    "width=10\n"
   ]
  }
 ],
 "metadata": {
  "kernelspec": {
   "display_name": "Python 3 (ipykernel)",
   "language": "python",
   "name": "python3"
  },
  "language_info": {
   "codemirror_mode": {
    "name": "ipython",
    "version": 3
   },
   "file_extension": ".py",
   "mimetype": "text/x-python",
   "name": "python",
   "nbconvert_exporter": "python",
   "pygments_lexer": "ipython3",
   "version": "3.9.12"
  }
 },
 "nbformat": 4,
 "nbformat_minor": 5
}
